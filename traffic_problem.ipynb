{
 "cells": [
  {
   "cell_type": "code",
   "execution_count": 1,
   "metadata": {},
   "outputs": [],
   "source": [
    "import numpy as np"
   ]
  },
  {
   "cell_type": "code",
   "execution_count": 2,
   "metadata": {},
   "outputs": [],
   "source": [
    "from sympy.abc import x\n",
    "from sympy.utilities.lambdify import lambdify, implemented_function\n",
    "from sympy import diff"
   ]
  },
  {
   "cell_type": "code",
   "execution_count": 3,
   "metadata": {},
   "outputs": [],
   "source": [
    "m = 2"
   ]
  },
  {
   "cell_type": "code",
   "execution_count": 4,
   "metadata": {},
   "outputs": [],
   "source": [
    "R = np.arange(1, m)"
   ]
  },
  {
   "cell_type": "code",
   "execution_count": 5,
   "metadata": {},
   "outputs": [
    {
     "data": {
      "text/plain": [
       "array([1])"
      ]
     },
     "execution_count": 5,
     "metadata": {},
     "output_type": "execute_result"
    }
   ],
   "source": [
    "R"
   ]
  },
  {
   "cell_type": "code",
   "execution_count": 6,
   "metadata": {},
   "outputs": [],
   "source": [
    "# C = [[round(np.random.rand(), 2) if i != j else 0 for j in range(m)] for i in range(m)]"
   ]
  },
  {
   "cell_type": "code",
   "execution_count": 7,
   "metadata": {},
   "outputs": [],
   "source": [
    "C = np.array([[i+j if i != j else 0 for j in range(m)] for i in range(m)])"
   ]
  },
  {
   "cell_type": "code",
   "execution_count": 8,
   "metadata": {},
   "outputs": [
    {
     "data": {
      "text/plain": [
       "array([[0, 1],\n",
       "       [1, 0]])"
      ]
     },
     "execution_count": 8,
     "metadata": {},
     "output_type": "execute_result"
    }
   ],
   "source": [
    "C"
   ]
  },
  {
   "cell_type": "code",
   "execution_count": 9,
   "metadata": {},
   "outputs": [],
   "source": [
    "assert(C.shape == (m, m))"
   ]
  },
  {
   "cell_type": "code",
   "execution_count": 10,
   "metadata": {},
   "outputs": [],
   "source": [
    "def rho(S):\n",
    "    return 1\n",
    "# rho(S) = const - rate of value discount"
   ]
  },
  {
   "cell_type": "code",
   "execution_count": 11,
   "metadata": {},
   "outputs": [],
   "source": [
    "# dS = mu(S, R)dt + sigma(S, R)dW, W-standard Brownian motion, t-time unit\n",
    "# mu(S, R) = dS/dt - sigma(S, R)dW/dt\n",
    "# sigma(S, R) = dS/dW - mu(S, R)dt/dW\n",
    "# V(S, R) - value function (returns value for regime R in state S)\n",
    "# V(S, i) ~ phi(S) @ Theta[i]\n",
    "# f(S, R) - function of payment per unit time in regime R in state S\n",
    "# beta(S, R) = rho * V(S, R) - L @ V(S, R)\n",
    "\n",
    "# Condition to switch to x:\n",
    "# 0 = min(beta(S, R) - f(S, R), min{foreach x != R}(V(S, R) - (V(S, x) - C[R][x])))\n",
    "# if V(S, R) = V(S, x) - C[R][x] then switch to x"
   ]
  },
  {
   "cell_type": "code",
   "execution_count": 12,
   "metadata": {},
   "outputs": [],
   "source": [
    "n = 3"
   ]
  },
  {
   "cell_type": "code",
   "execution_count": 13,
   "metadata": {},
   "outputs": [],
   "source": [
    "S = [1 for i in range(n)] # S - set of nodal values {s}"
   ]
  },
  {
   "cell_type": "code",
   "execution_count": 14,
   "metadata": {},
   "outputs": [],
   "source": [
    "# phi = [] - array of approximating functions"
   ]
  },
  {
   "cell_type": "code",
   "execution_count": 15,
   "metadata": {},
   "outputs": [],
   "source": [
    "phi = [(lambda x: x ** 2) for j in range(n)] # phi = [phi[1], phi[2], ...]"
   ]
  },
  {
   "cell_type": "code",
   "execution_count": 16,
   "metadata": {},
   "outputs": [],
   "source": [
    "# def generatePhi(S):\n",
    "#     return [[phi[j](S[i]) for i in range(n)] for j in range(n)]"
   ]
  },
  {
   "cell_type": "code",
   "execution_count": 17,
   "metadata": {},
   "outputs": [],
   "source": [
    "Phi = np.array([[lambdify(x, phi[i](x))(S[j]) for i in range(n)] for j in range(n)])"
   ]
  },
  {
   "cell_type": "code",
   "execution_count": 18,
   "metadata": {},
   "outputs": [],
   "source": [
    "assert(Phi.shape == (n, n))"
   ]
  },
  {
   "cell_type": "code",
   "execution_count": null,
   "metadata": {},
   "outputs": [],
   "source": []
  },
  {
   "cell_type": "code",
   "execution_count": 19,
   "metadata": {},
   "outputs": [],
   "source": [
    "def f(S, R):\n",
    "    return 1"
   ]
  },
  {
   "cell_type": "code",
   "execution_count": 20,
   "metadata": {},
   "outputs": [],
   "source": [
    "# def f_i(S, i):\n",
    "#     return np.array([f(S[j], i) for j in range(n)])"
   ]
  },
  {
   "cell_type": "code",
   "execution_count": 21,
   "metadata": {},
   "outputs": [],
   "source": [
    "f_i = np.array([[f(S[j], i) for j in range(n)] for i in range(n)])"
   ]
  },
  {
   "cell_type": "code",
   "execution_count": 22,
   "metadata": {},
   "outputs": [],
   "source": [
    "assert(f_i.shape == (n, n))"
   ]
  },
  {
   "cell_type": "code",
   "execution_count": 23,
   "metadata": {},
   "outputs": [],
   "source": [
    "# def generateF(S):\n",
    "#     return [[f(S[i], j) for i in range(n)] for j in range(n)]"
   ]
  },
  {
   "cell_type": "code",
   "execution_count": 24,
   "metadata": {},
   "outputs": [],
   "source": [
    "def mu(s, i):\n",
    "    return 1\n",
    "def sigma(s, i):\n",
    "    return 1"
   ]
  },
  {
   "cell_type": "code",
   "execution_count": 25,
   "metadata": {},
   "outputs": [],
   "source": [
    "def beta(s, i):\n",
    "    rho_val = rho(s)\n",
    "    mu_val = mu(s, i)\n",
    "    sigma_val = sigma(s, i)\n",
    "\n",
    "    phi_x = np.array([lambdify(x, phi[j](x))(s) for j in range(n)])\n",
    "    phi_dx = np.array([lambdify(x, diff(phi[j](x)))(s) for j in range(n)])\n",
    "    phi_dx2 = np.array([lambdify(x, diff(phi[j](x), x, 2))(s) for j in range(n)])\n",
    "\n",
    "\n",
    "    return rho_val * phi_x - mu_val * phi_dx + (sigma_val ** 2) / 2 * phi_dx2"
   ]
  },
  {
   "cell_type": "code",
   "execution_count": 26,
   "metadata": {},
   "outputs": [],
   "source": [
    "# Condition to stay:\n",
    "# phi_S = np.array([lambdify(x, phi[i](x))(S) for i in range(n)])\n",
    "# beta(S, i) @ theta[i] - f(S, i) >= 0\n",
    "# phi_S @ theta[i] - phi_S @ theta[j] + C[i][j] >= 0 for i != j"
   ]
  },
  {
   "cell_type": "code",
   "execution_count": 27,
   "metadata": {},
   "outputs": [],
   "source": [
    "# def Beta(i):\n",
    "#     return np.array([beta(S[j], i) for j in range(n)])"
   ]
  },
  {
   "cell_type": "code",
   "execution_count": 28,
   "metadata": {},
   "outputs": [],
   "source": [
    "Beta = np.array([[beta(S[j], i) for j in range(n)] for i in range(n)])"
   ]
  },
  {
   "cell_type": "code",
   "execution_count": 29,
   "metadata": {},
   "outputs": [],
   "source": [
    "assert(Beta[0].shape == (n, n))"
   ]
  },
  {
   "cell_type": "code",
   "execution_count": null,
   "metadata": {},
   "outputs": [],
   "source": []
  },
  {
   "cell_type": "code",
   "execution_count": null,
   "metadata": {},
   "outputs": [],
   "source": []
  },
  {
   "cell_type": "code",
   "execution_count": 30,
   "metadata": {},
   "outputs": [],
   "source": [
    "# 0 = min(M[0]z + q[0], M[1]z + q[1], ...)"
   ]
  },
  {
   "cell_type": "code",
   "execution_count": 31,
   "metadata": {},
   "outputs": [
    {
     "data": {
      "text/plain": [
       "array([[1., 0.],\n",
       "       [0., 1.]])"
      ]
     },
     "execution_count": 31,
     "metadata": {},
     "output_type": "execute_result"
    }
   ],
   "source": [
    "e = np.eye(m)\n",
    "e"
   ]
  },
  {
   "cell_type": "code",
   "execution_count": 32,
   "metadata": {},
   "outputs": [],
   "source": [
    "# def q(i):\n",
    "#     C_one = np.array([[C[j][i] * np.ones(n).T for j in range(m)] - (e[i] @ f_i[i]) for i in range(n)])\n",
    "    \n",
    "#     return C_one"
   ]
  },
  {
   "cell_type": "code",
   "execution_count": 44,
   "metadata": {},
   "outputs": [],
   "source": [
    "q = np.array(\n",
    "    [ \n",
    "        np.array([C[j][i] * np.ones(n).T for j in range(m)]).reshape((m*n, 1))\n",
    "        - np.kron(e[i], f_i[i]).reshape(m*n, 1) \n",
    "        for i in range(m)\n",
    "    ]\n",
    ")"
   ]
  },
  {
   "cell_type": "code",
   "execution_count": 45,
   "metadata": {},
   "outputs": [],
   "source": [
    "# mul - ?\n",
    "# q = np.array([ np.array([C[j][i] * np.ones(n).T for j in range(m)]).reshape((m*n, 1)) - mul(e[i] @ f_i[i]).reshape((m*n, 1)) for i in range(n)])"
   ]
  },
  {
   "cell_type": "code",
   "execution_count": 46,
   "metadata": {},
   "outputs": [],
   "source": [
    "assert(q[0].shape == (m*n, 1))"
   ]
  },
  {
   "cell_type": "code",
   "execution_count": 38,
   "metadata": {},
   "outputs": [],
   "source": [
    "# def M(i):\n",
    "#     return (e[i].T @ e[i]) * Beta[i] + ((np.ones((n,n)) - (np.ones(m).reshape(m, 1) @ e[i].reshape(1, m))) * Phi)"
   ]
  },
  {
   "cell_type": "code",
   "execution_count": 40,
   "metadata": {},
   "outputs": [],
   "source": [
    "M = np.array(\n",
    "    [\n",
    "        np.kron(\n",
    "            (e[i].reshape(m, 1) @ e[i].reshape(m, 1).T),\n",
    "            Beta[i]\n",
    "        )\n",
    "        + np.kron(\n",
    "            (np.eye(m) - (np.ones(m).reshape(m, 1) @ e[i].reshape(m, 1).T)),\n",
    "            Phi\n",
    "        )\n",
    "        for i in range(m)\n",
    "    ]\n",
    ")"
   ]
  },
  {
   "cell_type": "code",
   "execution_count": 42,
   "metadata": {},
   "outputs": [],
   "source": [
    "# mul - ?\n",
    "# M = np.array([mul((e[i].T @ e[i]), Beta[i]) + mul((np.ones((m,m)) - (np.ones(m).reshape(m, 1) @ e[i].reshape(1, m))), Phi) for i in range(n)])"
   ]
  },
  {
   "cell_type": "code",
   "execution_count": 43,
   "metadata": {},
   "outputs": [],
   "source": [
    "assert(M[0].shape == (m*n, m*n))"
   ]
  },
  {
   "cell_type": "code",
   "execution_count": null,
   "metadata": {},
   "outputs": [],
   "source": [
    "# z = m theta_i (shape n, m) - solution to EVLCP: 0 = min(M_1 @ z + q_1, ...)\n",
    "# w_i = M_i z + q_i >= 0 && (elementwise product of w_i) = 0"
   ]
  }
 ],
 "metadata": {
  "kernelspec": {
   "display_name": "Python 3",
   "language": "python",
   "name": "python3"
  },
  "language_info": {
   "codemirror_mode": {
    "name": "ipython",
    "version": 3
   },
   "file_extension": ".py",
   "mimetype": "text/x-python",
   "name": "python",
   "nbconvert_exporter": "python",
   "pygments_lexer": "ipython3",
   "version": "3.8.6"
  }
 },
 "nbformat": 4,
 "nbformat_minor": 4
}
